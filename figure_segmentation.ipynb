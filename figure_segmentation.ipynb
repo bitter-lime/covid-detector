{
 "cells": [
  {
   "cell_type": "code",
   "execution_count": 1,
   "id": "405a723a",
   "metadata": {},
   "outputs": [],
   "source": [
    "import numpy as np\n",
    "from scipy.signal import butter, lfilter, freqz, filtfilt, sosfiltfilt\n",
    "import scipy.io.wavfile\n",
    "import matplotlib.pyplot as plt\n",
    "import librosa\n",
    "import librosa.display\n",
    "from pydub import AudioSegment\n",
    "import os"
   ]
  },
  {
   "cell_type": "code",
   "execution_count": null,
   "id": "313f7cbd",
   "metadata": {},
   "outputs": [],
   "source": [
    "asthma_audio1 = \"/Users/ashley/RD_testing/Asthma_coughs_coswara/1gimjLEgqBdoHReixdq8HlEBfEr20.wav\"\n",
    "asthma_audio2 = \"/Users/ashley/RD_testing/Asthma_coughs_coswara/59dIvwH1JDU9pHbH1rc3FoVlJWl10.wav\"\n",
    "asthma_audio3 = \"/Users/ashley/RD_testing/Asthma_coughs_coswara/4atnIFwUK3ZZTiWezgLwrvHHOzT20.wav\"\n",
    "\n",
    "asthma1, sr = librosa.load(asthma_audio1, duration = 2.5)\n",
    "asthma2, sr = librosa.load(asthma_audio2, duration = 2.5)\n",
    "asthma3, sr = librosa.load(asthma_audio3, duration = 2.5)"
   ]
  },
  {
   "cell_type": "code",
   "execution_count": 2,
   "id": "730793ea",
   "metadata": {},
   "outputs": [],
   "source": [
    "def amplitude_envelope(signal, frame_size, hop_length):\n",
    "    amplitude_envelope = []\n",
    "\n",
    "    for i in range(0, len(signal), hop_length): \n",
    "        amplitude_envelope_current_frame = max(signal[i:i+frame_size]) \n",
    "        amplitude_envelope.append(amplitude_envelope_current_frame)\n",
    "    \n",
    "    return np.array(amplitude_envelope)"
   ]
  },
  {
   "cell_type": "code",
   "execution_count": 7,
   "id": "9d1e3f2f",
   "metadata": {},
   "outputs": [],
   "source": [
    "def calculate_first_time(cough_values, t):\n",
    "    segmentation_values = []\n",
    "    for i, j in zip(t, cough_values):\n",
    "        if j > 0.03:\n",
    "            segmentation_values.append(i)\n",
    "    return (segmentation_values)\n",
    "\n",
    "def get_first_time(low_passed_data):\n",
    "    first_times = []\n",
    "    \n",
    "    # define variables for amplitude envelope \n",
    "    frame_size = 400\n",
    "    hop_length = 210\n",
    "    \n",
    "\n",
    "    for i in range(len(low_passed_data)):\n",
    "        ae_data = amplitude_envelope(low_passed_data[i], frame_size, hop_length)\n",
    "        \n",
    "        frames1 = range(len(ae_data))\n",
    "        t1 = librosa.frames_to_time(frames1, hop_length = hop_length)\n",
    "        \n",
    "        first_time = calculate_first_time(ae_data, t1)\n",
    "\n",
    "#         if len(first_time) == 0:\n",
    "#             first_times.append(0)\n",
    "#         else: \n",
    "#             first_times.append(first_time[0])\n",
    "        \n",
    "    return first_times"
   ]
  },
  {
   "cell_type": "code",
   "execution_count": 4,
   "id": "1af509dc",
   "metadata": {},
   "outputs": [],
   "source": [
    "def get_segment(AUDIO_FILES, t1):\n",
    "    time_values = []\n",
    "    for i in range (len(AUDIO_FILES)):\n",
    "        time_1 = t1[i] * 1000\n",
    "        time_2 = int(time_1) + 330\n",
    "        time_values.append([time_1, time_2])\n",
    "    return time_values "
   ]
  },
  {
   "cell_type": "code",
   "execution_count": 6,
   "id": "17000c0d",
   "metadata": {},
   "outputs": [],
   "source": [
    "def print_graphs(low_passed_coughs, x):\n",
    "    for i in range (len(low_passed_coughs)):\n",
    "        ae_coughs = amplitude_envelope(low_passed_coughs[i], FRAME_SIZE, HOP_LENGTH)\n",
    "\n",
    "        frames1 = range(len(ae_coughs))\n",
    "        t1 = librosa.frames_to_time(frames1, hop_length=HOP_LENGTH)\n",
    "\n",
    "        plt.figure(figsize=(15, 17))\n",
    "\n",
    "        ax = plt.subplot(len(low_passed_coughs), 1, i+1)\n",
    "        \n",
    "        librosa.display.waveplot(low_passed_coughs[i], alpha=0.5)\n",
    "        plt.ylim((-1, 1))\n",
    "        \n",
    "        plt.axhline(y=0.01,linewidth=1, color='g')\n",
    "        plt.plot(t1, ae_coughs, color=\"r\")\n",
    "        ax.plot(x[i], low_passed_coughs[i], marker='o', markersize=10)\n",
    "        \n",
    "        plt.title(f\"Amplitude envelope of low passed asthma {i} signal\")\n",
    "        plt.show()"
   ]
  },
  {
   "cell_type": "code",
   "execution_count": null,
   "id": "10061181",
   "metadata": {},
   "outputs": [],
   "source": [
    "asthma_coughs = []\n",
    "\n",
    "FRAME_SIZE = 400\n",
    "HOP_LENGTH = 210\n",
    "\n",
    "t1 = first_time(asthma_coughs)\n",
    "time_values = get_segment(asthma_coughs, t1)\n",
    "print_graphs(asthma_coughs, time_values)\n",
    "    "
   ]
  }
 ],
 "metadata": {
  "kernelspec": {
   "display_name": "Python 3 (ipykernel)",
   "language": "python",
   "name": "python3"
  },
  "language_info": {
   "codemirror_mode": {
    "name": "ipython",
    "version": 3
   },
   "file_extension": ".py",
   "mimetype": "text/x-python",
   "name": "python",
   "nbconvert_exporter": "python",
   "pygments_lexer": "ipython3",
   "version": "3.8.8"
  }
 },
 "nbformat": 4,
 "nbformat_minor": 5
}
