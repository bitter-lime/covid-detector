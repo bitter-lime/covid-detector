{
 "cells": [
  {
   "cell_type": "code",
   "execution_count": 1,
   "id": "cc699b49",
   "metadata": {},
   "outputs": [],
   "source": [
    "from tensorflow import keras\n",
    "from tensorflow.keras.layers import Activation, Dense, Dropout, Conv2D, Flatten, MaxPooling2D, AveragePooling2D, Input\n",
    "from tensorflow.keras.models import Model, Sequential, save_model, load_model\n",
    "from sklearn.metrics import roc_curve, roc_auc_score\n",
    "\n",
    "from keras.utils.np_utils import to_categorical\n",
    "\n",
    "import librosa\n",
    "import librosa.display\n",
    "\n",
    "import numpy as np\n",
    "import pandas as pd\n",
    "import random\n",
    "import os\n",
    "\n",
    "import matplotlib.pyplot as plt\n",
    "\n",
    "import pickle\n",
    "\n",
    "import warnings \n",
    "warnings.filterwarnings('ignore')"
   ]
  },
  {
   "cell_type": "code",
   "execution_count": 2,
   "id": "e489c181",
   "metadata": {},
   "outputs": [],
   "source": [
    "def plot_history(history, yrange):\n",
    "    \n",
    "    acc = history.history['accuracy']\n",
    "    val_acc = history.history['val_accuracy']\n",
    "    loss = history.history['loss']\n",
    "    val_loss = history.history['val_loss']\n",
    "\n",
    "    epochs = range(len(acc))\n",
    "\n",
    "    plt.plot(epochs, acc)\n",
    "    plt.plot(epochs, val_acc)\n",
    "    plt.title('Training and validation accuracy')\n",
    "    plt.ylim(yrange)\n",
    "    plt.legend(['train', 'test'], loc='upper left')\n",
    "    \n",
    "    plt.figure()\n",
    "\n",
    "    plt.plot(epochs, loss)\n",
    "    plt.plot(epochs, val_loss)\n",
    "    plt.title('Training and validation loss')\n",
    "    plt.legend(['train', 'test'], loc='upper left')\n",
    "    plt.show()"
   ]
  },
  {
   "cell_type": "code",
   "execution_count": 3,
   "id": "46128f19",
   "metadata": {},
   "outputs": [],
   "source": [
    "fh = open(\"/Users/home/Documents/Respiratory Illness AI/datasets/copd_asthma_dataset_128\", 'rb')\n",
    "dataset = pickle.load(fh)"
   ]
  },
  {
   "cell_type": "code",
   "execution_count": 4,
   "id": "6783160c",
   "metadata": {},
   "outputs": [],
   "source": [
    "input_shape1 = (128, 31, 1)\n",
    "input_shape2 = (224, 224, 1)"
   ]
  },
  {
   "cell_type": "code",
   "execution_count": 5,
   "id": "834702da",
   "metadata": {},
   "outputs": [],
   "source": [
    "random.shuffle(dataset)\n",
    "train = dataset[:130]\n",
    "val = dataset[130:170]\n",
    "# test = dataset[170:]\n",
    "\n",
    "X_train, y_train = zip(*train)\n",
    "X_val, y_val = zip(*val)\n",
    "# X_test, y_test = zip(*test)\n",
    "\n",
    "X_train = np.array([x.reshape(input_shape1) for x in X_train])\n",
    "X_val = np.array([x.reshape(input_shape1) for x in X_val])\n",
    "# X_test = np.array([x.reshape(input_shape1) for x in X_test])\n",
    "\n",
    "y_train = np.array(to_categorical(y_train, 2))\n",
    "y_val = np.array(to_categorical(y_val, 2))\n",
    "# y_test = np.array(to_categorical(y_test, 2))"
   ]
  },
  {
   "cell_type": "code",
   "execution_count": 6,
   "id": "ef03cbd6",
   "metadata": {},
   "outputs": [],
   "source": [
    "# feature map \n",
    "fms = [24, 48, 16]\n",
    "matrix_sizes = [(3, 3), (5, 5), (2, 2)]\n",
    "strides = [(3, 3), (1, 1), (2, 2)]\n",
    "activations = ['relu', 'sigmoid']\n",
    "dropout_rates = [0.5, 0.6, 0.7, 0.8]\n",
    "dense_values = [128, 256]"
   ]
  },
  {
   "cell_type": "code",
   "execution_count": 7,
   "id": "55d5bf4c",
   "metadata": {},
   "outputs": [
    {
     "name": "stderr",
     "output_type": "stream",
     "text": [
      "2022-02-09 18:32:34.449267: I tensorflow/core/platform/cpu_feature_guard.cc:142] This TensorFlow binary is optimized with oneAPI Deep Neural Network Library (oneDNN) to use the following CPU instructions in performance-critical operations:  AVX2 FMA\n",
      "To enable them in other operations, rebuild TensorFlow with the appropriate compiler flags.\n"
     ]
    }
   ],
   "source": [
    "model = Sequential()\n",
    "\n",
    "model.add(Conv2D(24, (3, 3), strides=(1, 1), input_shape=input_shape1))\n",
    "model.add(MaxPooling2D((2, 2), strides=(2, 2)))\n",
    "model.add(Activation('relu'))\n",
    "\n",
    "model.add(Conv2D(24, (3, 3), padding=\"valid\"))\n",
    "model.add(MaxPooling2D((2, 2), strides=(2, 2)))\n",
    "model.add(Activation('relu'))\n",
    "\n",
    "model.add(Conv2D(24, (3, 3), padding=\"valid\"))\n",
    "model.add(Activation('relu'))\n",
    "\n",
    "model.add(Conv2D(48, (3, 3), padding=\"valid\"))\n",
    "model.add(Activation('relu'))\n",
    "\n",
    "model.add(Flatten())\n",
    "model.add(Dropout(rate=0.6))\n",
    "\n",
    "model.add(Dense(128))\n",
    "model.add(Activation('relu'))\n",
    "model.add(Dropout(rate=0.6))\n",
    "\n",
    "model.add(Dense(128))\n",
    "model.add(Activation('relu'))\n",
    "model.add(Dropout(rate=0.6))\n",
    "\n",
    "model.add(Dense(128))\n",
    "model.add(Activation('relu'))\n",
    "model.add(Dropout(rate=0.6))\n",
    "\n",
    "model.add(Dense(2))\n",
    "model.add(Activation('sigmoid'))"
   ]
  },
  {
   "cell_type": "code",
   "execution_count": 8,
   "id": "ad36829f",
   "metadata": {},
   "outputs": [
    {
     "name": "stderr",
     "output_type": "stream",
     "text": [
      "2022-02-09 18:32:34.957486: I tensorflow/compiler/mlir/mlir_graph_optimization_pass.cc:185] None of the MLIR Optimization Passes are enabled (registered 2)\n"
     ]
    },
    {
     "name": "stdout",
     "output_type": "stream",
     "text": [
      "Epoch 1/25\n",
      "9/9 [==============================] - 1s 71ms/step - loss: 1.0774 - accuracy: 0.4154 - val_loss: 0.6841 - val_accuracy: 0.5500\n",
      "Epoch 2/25\n",
      "9/9 [==============================] - 0s 40ms/step - loss: 0.7571 - accuracy: 0.5538 - val_loss: 0.6824 - val_accuracy: 0.5750\n",
      "Epoch 3/25\n",
      "9/9 [==============================] - 0s 43ms/step - loss: 0.7894 - accuracy: 0.5154 - val_loss: 0.6823 - val_accuracy: 0.5000\n",
      "Epoch 4/25\n",
      "9/9 [==============================] - 0s 41ms/step - loss: 0.6624 - accuracy: 0.6000 - val_loss: 0.6784 - val_accuracy: 0.6000\n",
      "Epoch 5/25\n",
      "9/9 [==============================] - 0s 42ms/step - loss: 0.7250 - accuracy: 0.5154 - val_loss: 0.6782 - val_accuracy: 0.7000\n",
      "Epoch 6/25\n",
      "9/9 [==============================] - 0s 40ms/step - loss: 0.6802 - accuracy: 0.5846 - val_loss: 0.6761 - val_accuracy: 0.7000\n",
      "Epoch 7/25\n",
      "9/9 [==============================] - 0s 44ms/step - loss: 0.6757 - accuracy: 0.6077 - val_loss: 0.6801 - val_accuracy: 0.6500\n",
      "Epoch 8/25\n",
      "9/9 [==============================] - 1s 75ms/step - loss: 0.6569 - accuracy: 0.6462 - val_loss: 0.6751 - val_accuracy: 0.6500\n",
      "Epoch 9/25\n",
      "9/9 [==============================] - 1s 58ms/step - loss: 0.6422 - accuracy: 0.6462 - val_loss: 0.6727 - val_accuracy: 0.6750\n",
      "Epoch 10/25\n",
      "9/9 [==============================] - 0s 50ms/step - loss: 0.6508 - accuracy: 0.6308 - val_loss: 0.6688 - val_accuracy: 0.7000\n",
      "Epoch 11/25\n",
      "9/9 [==============================] - 0s 53ms/step - loss: 0.6616 - accuracy: 0.6154 - val_loss: 0.6734 - val_accuracy: 0.6000\n",
      "Epoch 12/25\n",
      "9/9 [==============================] - 0s 49ms/step - loss: 0.6796 - accuracy: 0.5462 - val_loss: 0.6735 - val_accuracy: 0.6750\n",
      "Epoch 13/25\n",
      "9/9 [==============================] - 0s 53ms/step - loss: 0.6302 - accuracy: 0.6385 - val_loss: 0.6690 - val_accuracy: 0.6500\n",
      "Epoch 14/25\n",
      "9/9 [==============================] - 0s 52ms/step - loss: 0.6810 - accuracy: 0.5462 - val_loss: 0.6697 - val_accuracy: 0.6500\n",
      "Epoch 15/25\n",
      "9/9 [==============================] - 0s 42ms/step - loss: 0.6504 - accuracy: 0.6077 - val_loss: 0.6637 - val_accuracy: 0.6500\n",
      "Epoch 16/25\n",
      "9/9 [==============================] - 1s 57ms/step - loss: 0.6458 - accuracy: 0.7000 - val_loss: 0.6589 - val_accuracy: 0.6750\n",
      "Epoch 17/25\n",
      "9/9 [==============================] - 1s 52ms/step - loss: 0.6414 - accuracy: 0.6923 - val_loss: 0.6643 - val_accuracy: 0.6500\n",
      "Epoch 18/25\n",
      "9/9 [==============================] - 0s 45ms/step - loss: 0.6452 - accuracy: 0.6692 - val_loss: 0.6621 - val_accuracy: 0.7000\n",
      "Epoch 19/25\n",
      "9/9 [==============================] - 1s 87ms/step - loss: 0.6173 - accuracy: 0.6385 - val_loss: 0.6555 - val_accuracy: 0.6750\n",
      "Epoch 20/25\n",
      "9/9 [==============================] - 1s 57ms/step - loss: 0.5981 - accuracy: 0.7000 - val_loss: 0.6509 - val_accuracy: 0.7250\n",
      "Epoch 21/25\n",
      "9/9 [==============================] - 1s 68ms/step - loss: 0.6160 - accuracy: 0.6385 - val_loss: 0.6483 - val_accuracy: 0.7500\n",
      "Epoch 22/25\n",
      "9/9 [==============================] - 0s 50ms/step - loss: 0.6204 - accuracy: 0.6077 - val_loss: 0.6519 - val_accuracy: 0.7000\n",
      "Epoch 23/25\n",
      "9/9 [==============================] - 0s 39ms/step - loss: 0.6569 - accuracy: 0.6615 - val_loss: 0.6482 - val_accuracy: 0.7000\n",
      "Epoch 24/25\n",
      "9/9 [==============================] - 1s 64ms/step - loss: 0.5703 - accuracy: 0.7538 - val_loss: 0.6358 - val_accuracy: 0.7750\n",
      "Epoch 25/25\n",
      "9/9 [==============================] - 1s 64ms/step - loss: 0.6140 - accuracy: 0.6231 - val_loss: 0.6434 - val_accuracy: 0.7000\n"
     ]
    }
   ],
   "source": [
    "model.compile(\n",
    "    optimizer=\"SGD\", \n",
    "    loss=\"categorical_crossentropy\", \n",
    "    metrics=['accuracy'])\n",
    "\n",
    "history = model.fit(\n",
    "    x=X_train, \n",
    "    y=y_train, \n",
    "    epochs=25, \n",
    "    batch_size=15, \n",
    "    validation_data=(X_val, y_val))"
   ]
  },
  {
   "cell_type": "code",
   "execution_count": 9,
   "id": "4dcbc5db",
   "metadata": {},
   "outputs": [
    {
     "name": "stdout",
     "output_type": "stream",
     "text": [
      "2/2 [==============================] - 0s 9ms/step - loss: 0.6434 - accuracy: 0.7000\n",
      "Test loss:  0.6434097290039062\n",
      "Test accuracy:  0.699999988079071\n"
     ]
    }
   ],
   "source": [
    "score = model.evaluate(x=X_val, y=y_val)\n",
    "print('Test loss: ', score[0])\n",
    "print('Test accuracy: ', score[1])"
   ]
  },
  {
   "cell_type": "code",
   "execution_count": 10,
   "id": "ccf26dbd",
   "metadata": {},
   "outputs": [
    {
     "data": {
      "image/png": "[encoded data removed]",
      "text/plain": [
       "<Figure size 432x288 with 1 Axes>"
      ]
     },
     "metadata": {
      "needs_background": "light"
     },
     "output_type": "display_data"
    },
    {
     "data": {
      "image/png": "[encoded data removed]",
      "text/plain": [
       "<Figure size 432x288 with 1 Axes>"
      ]
     },
     "metadata": {
      "needs_background": "light"
     },
     "output_type": "display_data"
    }
   ],
   "source": [
    "plot_history(history, (0.4, 1))"
   ]
  },
  {
   "cell_type": "code",
   "execution_count": 11,
   "id": "f92a0703",
   "metadata": {},
   "outputs": [
    {
     "name": "stdout",
     "output_type": "stream",
     "text": [
      "roc_auc_score:  0.7656641604010026\n"
     ]
    }
   ],
   "source": [
    "y_score = model.predict(X_val)\n",
    "# false_positive_rate, true_positive_rate, threshold = roc_curve(y_val, y_score)\n",
    "print('roc_auc_score: ', roc_auc_score(y_val, y_score))"
   ]
  },
  {
   "cell_type": "code",
   "execution_count": 12,
   "id": "9d97f064",
   "metadata": {},
   "outputs": [
    {
     "name": "stderr",
     "output_type": "stream",
     "text": [
      "2022-02-09 18:34:02.280857: W tensorflow/python/util/util.cc:348] Sets are not currently considered sequences, but this may change in the future, so consider avoiding using them.\n"
     ]
    },
    {
     "name": "stdout",
     "output_type": "stream",
     "text": [
      "INFO:tensorflow:Assets written to: normal_CNN69/assets\n"
     ]
    }
   ],
   "source": [
    "save_model(\n",
    "    model, 'normal_CNN69', overwrite=True, include_optimizer=True, save_format=None,\n",
    "    signatures=None, options=None, save_traces=True\n",
    ")"
   ]
  },
  {
   "cell_type": "code",
   "execution_count": null,
   "id": "3ba78043",
   "metadata": {},
   "outputs": [],
   "source": [
    "#questions: sometimes the validation loss increases a lot towards the end and validation accuracy decreases a lot towards the end"
   ]
  }
 ],
 "metadata": {
  "kernelspec": {
   "display_name": "Python 3 (ipykernel)",
   "language": "python",
   "name": "python3"
  },
  "language_info": {
   "codemirror_mode": {
    "name": "ipython",
    "version": 3
   },
   "file_extension": ".py",
   "mimetype": "text/x-python",
   "name": "python",
   "nbconvert_exporter": "python",
   "pygments_lexer": "ipython3",
   "version": "3.8.8"
  }
 },
 "nbformat": 4,
 "nbformat_minor": 5
}
