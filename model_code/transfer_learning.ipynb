{
 "cells": [
  {
   "cell_type": "code",
   "execution_count": null,
   "id": "158f2788",
   "metadata": {},
   "outputs": [],
   "source": [
    "from tensorflow import keras\n",
    "from tensorflow.keras.layers import Activation, Dense, Dropout, Conv2D, Flatten, MaxPooling2D, AveragePooling2D, Input\n",
    "from tensorflow.keras.models import Model, Sequential, save_model, load_model\n",
    "\n",
    "from tensorflow.keras.applications.resnet50 import ResNet50\n",
    "from tensorflow.keras.applications.vgg16 import VGG16\n",
    "from tensorflow.keras.applications.vgg19 import VGG19\n",
    "from tensorflow.keras.applications.inception_v3 import InceptionV3\n",
    "from tensorflow.keras.applications.efficientnet import EfficientNetB0\n",
    "\n",
    "from keras.utils import np_utils\n",
    "\n",
    "import librosa\n",
    "import librosa.display\n",
    "import numpy as np\n",
    "import pandas as pd\n",
    "import random\n",
    "import os\n",
    "\n",
    "import matplotlib.pyplot as plt\n",
    "\n",
    "import pickle"
   ]
  },
  {
   "cell_type": "code",
   "execution_count": null,
   "id": "9d9c5e17",
   "metadata": {},
   "outputs": [],
   "source": [
    "def plot_history(history, yrange):\n",
    "    \n",
    "    acc = history.history['accuracy']\n",
    "    val_acc = history.history['val_accuracy']\n",
    "    loss = history.history['loss']\n",
    "    val_loss = history.history['val_loss']\n",
    "\n",
    "    epochs = range(len(acc))\n",
    "\n",
    "    plt.plot(epochs, acc)\n",
    "    plt.plot(epochs, val_acc)\n",
    "    plt.title('Training and validation accuracy')\n",
    "    plt.ylim(yrange)\n",
    "    plt.legend(['train', 'test'], loc='upper left')\n",
    "    \n",
    "    plt.figure()\n",
    "\n",
    "    plt.plot(epochs, loss)\n",
    "    plt.plot(epochs, val_loss)\n",
    "    plt.title('Training and validation loss')\n",
    "    plt.legend(['train', 'test'], loc='upper left')\n",
    "    plt.show()"
   ]
  },
  {
   "cell_type": "code",
   "execution_count": null,
   "id": "93e3636c",
   "metadata": {},
   "outputs": [],
   "source": [
    "fh = open(DATASET_NAME, 'rb')\n",
    "dataset = pickle.load(fh)"
   ]
  },
  {
   "cell_type": "code",
   "execution_count": null,
   "id": "3a01c3fa",
   "metadata": {},
   "outputs": [],
   "source": [
    "input_shape2 = (224, 224, 1)"
   ]
  },
  {
   "cell_type": "code",
   "execution_count": null,
   "id": "d16ac2e8",
   "metadata": {},
   "outputs": [],
   "source": [
    "random.shuffle(dataset)\n",
    "train = dataset[:125]\n",
    "val = dataset[125:165]\n",
    "test = dataset[165:]\n",
    "\n",
    "X_train, y_train = zip(*train)\n",
    "X_val, y_val = zip(*val)\n",
    "X_test, y_test = zip(*test)\n",
    "\n",
    "X_train = np.array([x.reshape(INPUT_SHAPE) for x in X_train])\n",
    "X_val = np.array([x.reshape(INPUT_SHAPE) for x in X_val])\n",
    "X_test = np.array([x.reshape(INPUT_SHAPE) for x in X_test])\n",
    "\n",
    "y_train = np.array(np_utils.to_categorical(y_train, 2))\n",
    "y_val = np.array(np_utils.to_categorical(y_val, 2))\n",
    "y_test = np.array(np_utils.to_categorical(y_test, 2))"
   ]
  },
  {
   "cell_type": "code",
   "execution_count": null,
   "id": "8f703b23",
   "metadata": {},
   "outputs": [],
   "source": [
    "dropout_rates = [0.5, 0.6, 0.7, 0.8]\n",
    "activations = ['relu', 'sigmoid']"
   ]
  },
  {
   "cell_type": "code",
   "execution_count": null,
   "id": "f02c7e31",
   "metadata": {},
   "outputs": [],
   "source": [
    "baseModel = MODEL_TYPE(weights=None, include_top=False, input_shape=INPUT_SHAPE)\n",
    "\n",
    "headModel = baseModel.output\n",
    "headModel = AveragePooling2D(pool_size=(2, 2))(headModel)\n",
    "headModel = Flatten(name=\"flatten\")(headModel)\n",
    "\n",
    "headModel = Dense(512, activation=ACTIVATION)(headModel)\n",
    "headModel = Dropout(DROPOUT_RATE)(headModel)\n",
    "\n",
    "headModel = Dense(512, activation=ACTIVATION)(headModel)\n",
    "headModel = Dropout(DROPOUT_RATE)(headModel)\n",
    "\n",
    "headModel = Dense(512, activation=ACTIVATION)(headModel)\n",
    "headModel = Dropout(DROPOUT_RATE)(headModel)\n",
    "\n",
    "headModel = Dense(2, activation=\"softmax\")(headModel)\n",
    "\n",
    "model = Model(inputs=baseModel.input, outputs=headModel)\n",
    "\n",
    "for layer in baseModel.layers:\n",
    "    layer.trainable = False"
   ]
  },
  {
   "cell_type": "code",
   "execution_count": null,
   "id": "0f89c29c",
   "metadata": {},
   "outputs": [],
   "source": [
    "model.compile(optimizer=\"Adam\", \n",
    "              loss='categorical_crossentropy', \n",
    "              metrics=['accuracy'])\n",
    "\n",
    "history = model.fit(x=X_train,\n",
    "          y=y_train,\n",
    "          epochs=14,\n",
    "          batch_size=128,\n",
    "          validation_data=(X_val, y_val))"
   ]
  },
  {
   "cell_type": "code",
   "execution_count": null,
   "id": "c1bcca62",
   "metadata": {},
   "outputs": [],
   "source": [
    "score = model.evaluate(x=X_test,\n",
    "                     y=y_test)\n",
    "\n",
    "print('Test loss:', score[0])\n",
    "print('Test accuracy:', score[1])"
   ]
  },
  {
   "cell_type": "code",
   "execution_count": null,
   "id": "48b3efcb",
   "metadata": {},
   "outputs": [],
   "source": [
    "plot_history(history, (0.4, 0.6))"
   ]
  },
  {
   "cell_type": "code",
   "execution_count": null,
   "id": "89ce9004",
   "metadata": {},
   "outputs": [],
   "source": [
    "save_model(model, \n",
    "           NAME_OF_MODEL, \n",
    "           overwrite=True, \n",
    "           include_optimizer=True, \n",
    "           save_format=None, \n",
    "           signatures=None, options=None, save_traces=True)"
   ]
  }
 ],
 "metadata": {
  "kernelspec": {
   "display_name": "Python 3 (ipykernel)",
   "language": "python",
   "name": "python3"
  },
  "language_info": {
   "codemirror_mode": {
    "name": "ipython",
    "version": 3
   },
   "file_extension": ".py",
   "mimetype": "text/x-python",
   "name": "python",
   "nbconvert_exporter": "python",
   "pygments_lexer": "ipython3",
   "version": "3.8.8"
  }
 },
 "nbformat": 4,
 "nbformat_minor": 5
}
