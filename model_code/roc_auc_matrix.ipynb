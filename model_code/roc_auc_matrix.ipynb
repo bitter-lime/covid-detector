{
 "cells": [
  {
   "cell_type": "code",
   "execution_count": 1,
   "id": "db1e45a9",
   "metadata": {},
   "outputs": [],
   "source": [
    "from tensorflow import keras\n",
    "from tensorflow.keras.layers import Activation, Dense, Dropout, Conv2D, Flatten, MaxPooling2D, AveragePooling2D, Input\n",
    "from tensorflow.keras.models import Model, Sequential, save_model, load_model\n",
    "\n",
    "from sklearn.metrics import roc_curve, roc_auc_score, confusion_matrix\n",
    "from sklearn.metrics import accuracy_score, precision_score, recall_score, f1_score\n",
    "\n",
    "from tensorflow.keras.applications.resnet50 import ResNet50\n",
    "from tensorflow.keras.optimizers import Adam, SGD\n",
    "\n",
    "from keras.utils import np_utils\n",
    "\n",
    "import librosa\n",
    "import librosa.display\n",
    "import numpy as np\n",
    "import pandas as pd\n",
    "import random\n",
    "import os\n",
    "\n",
    "import matplotlib.pyplot as plt\n",
    "\n",
    "import warnings \n",
    "warnings.filterwarnings('ignore')\n",
    "\n",
    "import pickle"
   ]
  },
  {
   "cell_type": "code",
   "execution_count": 2,
   "id": "7ff285f6",
   "metadata": {},
   "outputs": [],
   "source": [
    "fh = open('/Users/home/Documents/Respiratory Illness AI/datasets/official_datasets/asthma_copd_healthy/asthma_copd_healthy_224_224_3', 'rb')\n",
    "dataset = pickle.load(fh)"
   ]
  },
  {
   "cell_type": "code",
   "execution_count": 3,
   "id": "f6ecad7e",
   "metadata": {},
   "outputs": [],
   "source": [
    "input_shape = (224, 224, 3)"
   ]
  },
  {
   "cell_type": "code",
   "execution_count": 4,
   "id": "d500ba7e",
   "metadata": {},
   "outputs": [],
   "source": [
    "train = dataset[:210]\n",
    "val = dataset[210:]\n",
    "\n",
    "X_train, y_train = zip(*train)\n",
    "X_val, y_val = zip(*val)\n",
    "\n",
    "X_train = np.array([x.reshape(input_shape) for x in X_train])\n",
    "X_val = np.array([x.reshape(input_shape) for x in X_val])\n",
    "\n",
    "y_train = np.array(np_utils.to_categorical(y_train, 3))\n",
    "y_val = np.array(np_utils.to_categorical(y_val, 3))"
   ]
  },
  {
   "cell_type": "code",
   "execution_count": 5,
   "id": "698f341f",
   "metadata": {},
   "outputs": [
    {
     "name": "stderr",
     "output_type": "stream",
     "text": [
      "2022-03-14 10:59:21.556846: I tensorflow/core/platform/cpu_feature_guard.cc:142] This TensorFlow binary is optimized with oneAPI Deep Neural Network Library (oneDNN) to use the following CPU instructions in performance-critical operations:  AVX2 FMA\n",
      "To enable them in other operations, rebuild TensorFlow with the appropriate compiler flags.\n"
     ]
    }
   ],
   "source": [
    "model = load_model('/Users/home/Documents/Respiratory Illness AI/k_fold/1reSNEt2', compile = True)"
   ]
  },
  {
   "cell_type": "code",
   "execution_count": 6,
   "id": "dab1203d",
   "metadata": {},
   "outputs": [
    {
     "name": "stderr",
     "output_type": "stream",
     "text": [
      "2022-03-14 10:59:55.586875: I tensorflow/compiler/mlir/mlir_graph_optimization_pass.cc:185] None of the MLIR Optimization Passes are enabled (registered 2)\n"
     ]
    }
   ],
   "source": [
    "y_score = model.predict(X_val)"
   ]
  },
  {
   "cell_type": "code",
   "execution_count": 9,
   "id": "cee5b164",
   "metadata": {},
   "outputs": [],
   "source": [
    "confusion_matrix = confusion_matrix(y_val.argmax(axis=1), y_score.argmax(axis=1))"
   ]
  },
  {
   "cell_type": "code",
   "execution_count": 10,
   "id": "cd452254",
   "metadata": {},
   "outputs": [
    {
     "data": {
      "text/plain": [
       "array([[12,  4,  3],\n",
       "       [ 2, 11,  2],\n",
       "       [ 0, 16,  1]])"
      ]
     },
     "execution_count": 10,
     "metadata": {},
     "output_type": "execute_result"
    }
   ],
   "source": [
    "confusion_matrix"
   ]
  },
  {
   "cell_type": "code",
   "execution_count": null,
   "id": "69f84d25",
   "metadata": {},
   "outputs": [],
   "source": []
  }
 ],
 "metadata": {
  "kernelspec": {
   "display_name": "Python 3 (ipykernel)",
   "language": "python",
   "name": "python3"
  },
  "language_info": {
   "codemirror_mode": {
    "name": "ipython",
    "version": 3
   },
   "file_extension": ".py",
   "mimetype": "text/x-python",
   "name": "python",
   "nbconvert_exporter": "python",
   "pygments_lexer": "ipython3",
   "version": "3.8.8"
  }
 },
 "nbformat": 4,
 "nbformat_minor": 5
}
