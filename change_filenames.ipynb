{
 "cells": [
  {
   "cell_type": "code",
   "execution_count": 1,
   "id": "fa5e2c6b",
   "metadata": {},
   "outputs": [],
   "source": [
    "import glob \n",
    "import os "
   ]
  },
  {
   "cell_type": "code",
   "execution_count": 2,
   "id": "13ccaebc",
   "metadata": {},
   "outputs": [],
   "source": [
    "path = '/Users/home/Documents/Respiratory Illness AI/recordings/official_training//Users/home/Documents/Respiratory Illness AI/recordings/official_training/COVID-3'\n",
    "files = glob.glob(path + \"/*\")"
   ]
  },
  {
   "cell_type": "code",
   "execution_count": 3,
   "id": "ff25552a",
   "metadata": {},
   "outputs": [
    {
     "name": "stdout",
     "output_type": "stream",
     "text": [
      "0\n"
     ]
    }
   ],
   "source": [
    "print(len(files))"
   ]
  },
  {
   "cell_type": "code",
   "execution_count": 11,
   "id": "4ba46445",
   "metadata": {},
   "outputs": [],
   "source": [
    "for count, i in enumerate(files): \n",
    "    os.rename(i, f\"{path}/COVID_cough{count}.wav\")"
   ]
  },
  {
   "cell_type": "code",
   "execution_count": null,
   "id": "66118893",
   "metadata": {},
   "outputs": [],
   "source": []
  }
 ],
 "metadata": {
  "kernelspec": {
   "display_name": "Python 3 (ipykernel)",
   "language": "python",
   "name": "python3"
  },
  "language_info": {
   "codemirror_mode": {
    "name": "ipython",
    "version": 3
   },
   "file_extension": ".py",
   "mimetype": "text/x-python",
   "name": "python",
   "nbconvert_exporter": "python",
   "pygments_lexer": "ipython3",
   "version": "3.8.8"
  }
 },
 "nbformat": 4,
 "nbformat_minor": 5
}
