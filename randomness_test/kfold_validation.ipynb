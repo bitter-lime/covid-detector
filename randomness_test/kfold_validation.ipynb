{
 "cells": [
  {
   "cell_type": "code",
   "execution_count": 1,
   "id": "5fee890d",
   "metadata": {},
   "outputs": [],
   "source": [
    "from tensorflow import keras\n",
    "from tensorflow.keras.layers import Activation, Dense, Dropout, Conv2D, Flatten, MaxPooling2D, AveragePooling2D, Input\n",
    "from tensorflow.keras.models import Model, Sequential, save_model, load_model\n",
    "from sklearn.metrics import roc_curve, roc_auc_score, confusion_matrix\n",
    "\n",
    "from sklearn.model_selection import StratifiedKFold, KFold\n",
    "\n",
    "from tensorflow.keras.applications.resnet50 import ResNet50\n",
    "from tensorflow.keras.applications import VGG19\n",
    "from tensorflow.keras.optimizers import Adam, SGD\n",
    "from tensorflow.keras.applications.inception_v3 import InceptionV3\n",
    "\n",
    "from keras.utils import np_utils\n",
    "\n",
    "import librosa\n",
    "import librosa.display\n",
    "import numpy as np\n",
    "import pandas as pd\n",
    "import random\n",
    "import os\n",
    "import glob\n",
    "\n",
    "import scikitplot as skplt\n",
    "import matplotlib.pyplot as plt\n",
    "\n",
    "import warnings \n",
    "warnings.filterwarnings('ignore')\n",
    "\n",
    "import pickle"
   ]
  },
  {
   "cell_type": "code",
   "execution_count": 12,
   "id": "0d39be80",
   "metadata": {},
   "outputs": [],
   "source": [
    "fh = open('/Users/home/Documents/Respiratory Illness AI/randomness_test/recording/test2/asthma_others2_224_224_3', 'rb')\n",
    "dataset = pickle.load(fh)"
   ]
  },
  {
   "cell_type": "code",
   "execution_count": 13,
   "id": "57651bb5",
   "metadata": {},
   "outputs": [],
   "source": [
    "input_shape = (224, 224, 3)\n",
    "\n",
    "n_splits = 5\n",
    "kfold = KFold(n_splits=n_splits, shuffle=True)\n",
    "X, Y = zip(*dataset)\n",
    "\n",
    "X_data, Y_data = np.array(X), np.array(Y)"
   ]
  },
  {
   "cell_type": "code",
   "execution_count": 14,
   "id": "19f465e6",
   "metadata": {},
   "outputs": [],
   "source": [
    "def create_model(input_shape):\n",
    "    baseModel = VGG19(weights=None, include_top=False, input_shape=input_shape)\n",
    "\n",
    "    headModel = baseModel.output\n",
    "    headModel = AveragePooling2D(pool_size=(2, 2))(headModel)\n",
    "    headModel = Flatten(name=\"flatten\")(headModel)\n",
    "\n",
    "    headModel = Dense(512, activation='relu')(headModel)\n",
    "    headModel = Dropout(0.5)(headModel)\n",
    "\n",
    "    headModel = Dense(512, activation='relu')(headModel)\n",
    "    headModel = Dropout(0.5)(headModel)\n",
    "\n",
    "    headModel = Dense(512, activation='relu')(headModel)\n",
    "    headModel = Dropout(0.5)(headModel)\n",
    "\n",
    "    headModel = Dense(2, activation=\"sigmoid\")(headModel)\n",
    "\n",
    "    model = Model(inputs=baseModel.input, outputs=headModel)\n",
    "\n",
    "    for layer in baseModel.layers:\n",
    "        layer.trainable = False\n",
    "        \n",
    "    return model "
   ]
  },
  {
   "cell_type": "code",
   "execution_count": 15,
   "id": "395c1d4b",
   "metadata": {},
   "outputs": [],
   "source": [
    "def k_fold_validation(x_data, y_data, kfold, test_num, input_shape):\n",
    "    index = 0\n",
    "    for train_i, test_i in kfold.split(x_data,y_data):\n",
    "        index += 1 \n",
    "        \n",
    "        x_train, x_val = x_data[train_i], x_data[test_i]\n",
    "        y_train, y_val = y_data[train_i], y_data[test_i]\n",
    "        \n",
    "        x_train = np.array([x.reshape(input_shape) for x in x_train])\n",
    "        x_val = np.array([x.reshape(input_shape) for x in x_val])\n",
    "        #remember to change number of classes \n",
    "        y_train = np.array(np_utils.to_categorical(y_train, 2))\n",
    "        y_val = np.array(np_utils.to_categorical(y_val, 2))\n",
    "\n",
    "        model = create_model(input_shape)\n",
    "        \n",
    "        model.compile(optimizer=\"Adam\", \n",
    "              loss='categorical_crossentropy', \n",
    "              metrics=['accuracy'])\n",
    "        \n",
    "        model.fit(x=x_train,\n",
    "                  y=y_train,\n",
    "                  epochs=25,\n",
    "                  batch_size=15,\n",
    "                  validation_data=(x_val, y_val))\n",
    "        \n",
    "        save_model(model, \n",
    "           f'asthma{test_num}_VGG19_{index}', \n",
    "           overwrite=True, \n",
    "           include_optimizer=True, \n",
    "           save_format=None, \n",
    "           signatures=None, options=None, save_traces=True)\n",
    "        "
   ]
  },
  {
   "cell_type": "code",
   "execution_count": 16,
   "id": "14426d8e",
   "metadata": {},
   "outputs": [
    {
     "name": "stdout",
     "output_type": "stream",
     "text": [
      "Epoch 1/25\n",
      "10/10 [==============================] - 38s 4s/step - loss: 0.6879 - accuracy: 0.5827 - val_loss: 0.6758 - val_accuracy: 0.7429\n",
      "Epoch 2/25\n",
      "10/10 [==============================] - 42s 4s/step - loss: 0.6851 - accuracy: 0.5180 - val_loss: 0.6995 - val_accuracy: 0.5143\n",
      "Epoch 3/25\n",
      "10/10 [==============================] - 38s 4s/step - loss: 0.7047 - accuracy: 0.5252 - val_loss: 0.6542 - val_accuracy: 0.5143\n",
      "Epoch 4/25\n",
      "10/10 [==============================] - 38s 4s/step - loss: 0.8525 - accuracy: 0.5180 - val_loss: 0.7108 - val_accuracy: 0.5143\n",
      "Epoch 5/25\n",
      "10/10 [==============================] - 39s 4s/step - loss: 0.7407 - accuracy: 0.4964 - val_loss: 0.6396 - val_accuracy: 0.6857\n",
      "Epoch 6/25\n",
      "10/10 [==============================] - 38s 4s/step - loss: 0.6933 - accuracy: 0.4892 - val_loss: 0.6378 - val_accuracy: 0.7429\n",
      "Epoch 7/25\n",
      "10/10 [==============================] - 41s 4s/step - loss: 0.7232 - accuracy: 0.5683 - val_loss: 0.6412 - val_accuracy: 0.6857\n",
      "Epoch 8/25\n",
      "10/10 [==============================] - 50s 5s/step - loss: 0.7126 - accuracy: 0.5180 - val_loss: 0.6171 - val_accuracy: 0.6571\n",
      "Epoch 9/25\n",
      "10/10 [==============================] - 63s 6s/step - loss: 0.6765 - accuracy: 0.5540 - val_loss: 0.6507 - val_accuracy: 0.6857\n",
      "Epoch 10/25\n",
      "10/10 [==============================] - 45s 4s/step - loss: 0.6829 - accuracy: 0.5755 - val_loss: 0.6411 - val_accuracy: 0.7429\n",
      "Epoch 11/25\n",
      "10/10 [==============================] - 44s 4s/step - loss: 0.6906 - accuracy: 0.5180 - val_loss: 0.6287 - val_accuracy: 0.7429\n",
      "Epoch 12/25\n",
      "10/10 [==============================] - 58s 6s/step - loss: 0.6817 - accuracy: 0.5396 - val_loss: 0.6334 - val_accuracy: 0.6857\n",
      "Epoch 13/25\n",
      "10/10 [==============================] - 60s 6s/step - loss: 0.6750 - accuracy: 0.5324 - val_loss: 0.6264 - val_accuracy: 0.6857\n",
      "Epoch 14/25\n",
      "10/10 [==============================] - 39s 4s/step - loss: 0.6517 - accuracy: 0.6403 - val_loss: 0.6110 - val_accuracy: 0.6571\n",
      "Epoch 15/25\n",
      "10/10 [==============================] - 37s 4s/step - loss: 0.6710 - accuracy: 0.5755 - val_loss: 0.6113 - val_accuracy: 0.7143\n",
      "Epoch 16/25\n",
      "10/10 [==============================] - 38s 4s/step - loss: 0.6870 - accuracy: 0.5468 - val_loss: 0.6105 - val_accuracy: 0.7429\n",
      "Epoch 17/25\n",
      "10/10 [==============================] - 37s 4s/step - loss: 0.6520 - accuracy: 0.5827 - val_loss: 0.6325 - val_accuracy: 0.6286\n",
      "Epoch 18/25\n",
      "10/10 [==============================] - 37s 4s/step - loss: 0.6811 - accuracy: 0.5755 - val_loss: 0.5858 - val_accuracy: 0.6571\n",
      "Epoch 19/25\n",
      "10/10 [==============================] - 42s 4s/step - loss: 0.6532 - accuracy: 0.6043 - val_loss: 0.5635 - val_accuracy: 0.7143\n",
      "Epoch 20/25\n",
      "10/10 [==============================] - 39s 4s/step - loss: 0.6385 - accuracy: 0.5827 - val_loss: 0.5932 - val_accuracy: 0.6571\n",
      "Epoch 21/25\n",
      "10/10 [==============================] - 38s 4s/step - loss: 0.6572 - accuracy: 0.5971 - val_loss: 0.5778 - val_accuracy: 0.6571\n",
      "Epoch 22/25\n",
      "10/10 [==============================] - 38s 4s/step - loss: 0.6377 - accuracy: 0.6187 - val_loss: 0.5636 - val_accuracy: 0.7429\n",
      "Epoch 23/25\n",
      "10/10 [==============================] - 38s 4s/step - loss: 0.6299 - accuracy: 0.6187 - val_loss: 0.5897 - val_accuracy: 0.6286\n",
      "Epoch 24/25\n",
      "10/10 [==============================] - 38s 4s/step - loss: 0.6273 - accuracy: 0.6187 - val_loss: 0.5909 - val_accuracy: 0.6857\n",
      "Epoch 25/25\n",
      "10/10 [==============================] - 38s 4s/step - loss: 0.6307 - accuracy: 0.6403 - val_loss: 0.5885 - val_accuracy: 0.6571\n"
     ]
    },
    {
     "name": "stderr",
     "output_type": "stream",
     "text": [
      "WARNING:absl:Found untraced functions such as _jit_compiled_convolution_op, _jit_compiled_convolution_op, _jit_compiled_convolution_op, _jit_compiled_convolution_op, _jit_compiled_convolution_op while saving (showing 5 of 16). These functions will not be directly callable after loading.\n"
     ]
    },
    {
     "name": "stdout",
     "output_type": "stream",
     "text": [
      "INFO:tensorflow:Assets written to: asthma2_VGG19_1/assets\n"
     ]
    },
    {
     "name": "stderr",
     "output_type": "stream",
     "text": [
      "INFO:tensorflow:Assets written to: asthma2_VGG19_1/assets\n"
     ]
    },
    {
     "name": "stdout",
     "output_type": "stream",
     "text": [
      "Epoch 1/25\n",
      "10/10 [==============================] - 39s 4s/step - loss: 0.6978 - accuracy: 0.5180 - val_loss: 0.6788 - val_accuracy: 0.5143\n",
      "Epoch 2/25\n",
      "10/10 [==============================] - 37s 4s/step - loss: 0.7203 - accuracy: 0.5180 - val_loss: 0.7029 - val_accuracy: 0.5143\n",
      "Epoch 3/25\n",
      "10/10 [==============================] - 39s 4s/step - loss: 0.7419 - accuracy: 0.4964 - val_loss: 0.6748 - val_accuracy: 0.5143\n",
      "Epoch 4/25\n",
      "10/10 [==============================] - 38s 4s/step - loss: 0.7451 - accuracy: 0.4748 - val_loss: 0.6734 - val_accuracy: 0.5714\n",
      "Epoch 5/25\n",
      "10/10 [==============================] - 37s 4s/step - loss: 0.6735 - accuracy: 0.6475 - val_loss: 0.6705 - val_accuracy: 0.4857\n",
      "Epoch 6/25\n",
      "10/10 [==============================] - 37s 4s/step - loss: 0.7079 - accuracy: 0.5827 - val_loss: 0.6953 - val_accuracy: 0.4857\n",
      "Epoch 7/25\n",
      "10/10 [==============================] - 37s 4s/step - loss: 0.7061 - accuracy: 0.5540 - val_loss: 0.6746 - val_accuracy: 0.5143\n",
      "Epoch 8/25\n",
      "10/10 [==============================] - 38s 4s/step - loss: 0.6427 - accuracy: 0.6403 - val_loss: 0.7034 - val_accuracy: 0.4857\n",
      "Epoch 9/25\n",
      "10/10 [==============================] - 37s 4s/step - loss: 0.6564 - accuracy: 0.5612 - val_loss: 0.6794 - val_accuracy: 0.5429\n",
      "Epoch 10/25\n",
      "10/10 [==============================] - 37s 4s/step - loss: 0.7263 - accuracy: 0.5612 - val_loss: 0.7258 - val_accuracy: 0.5429\n",
      "Epoch 11/25\n",
      "10/10 [==============================] - 38s 4s/step - loss: 0.7353 - accuracy: 0.5827 - val_loss: 0.6827 - val_accuracy: 0.5429\n",
      "Epoch 12/25\n",
      "10/10 [==============================] - 37s 4s/step - loss: 0.7016 - accuracy: 0.5899 - val_loss: 0.6780 - val_accuracy: 0.5429\n",
      "Epoch 13/25\n",
      "10/10 [==============================] - 38s 4s/step - loss: 0.6669 - accuracy: 0.6043 - val_loss: 0.6736 - val_accuracy: 0.5143\n",
      "Epoch 14/25\n",
      "10/10 [==============================] - 38s 4s/step - loss: 0.6561 - accuracy: 0.6259 - val_loss: 0.6855 - val_accuracy: 0.5714\n",
      "Epoch 15/25\n",
      "10/10 [==============================] - 37s 4s/step - loss: 0.6469 - accuracy: 0.6043 - val_loss: 0.6997 - val_accuracy: 0.5143\n",
      "Epoch 16/25\n",
      "10/10 [==============================] - 37s 4s/step - loss: 0.6550 - accuracy: 0.6331 - val_loss: 0.7052 - val_accuracy: 0.5714\n",
      "Epoch 17/25\n",
      "10/10 [==============================] - 42s 4s/step - loss: 0.6342 - accuracy: 0.6331 - val_loss: 0.6855 - val_accuracy: 0.5714\n",
      "Epoch 18/25\n",
      "10/10 [==============================] - 39s 4s/step - loss: 0.6334 - accuracy: 0.6331 - val_loss: 0.6923 - val_accuracy: 0.5714\n",
      "Epoch 19/25\n",
      "10/10 [==============================] - 37s 4s/step - loss: 0.6445 - accuracy: 0.6691 - val_loss: 0.6866 - val_accuracy: 0.6286\n",
      "Epoch 20/25\n",
      "10/10 [==============================] - 38s 4s/step - loss: 0.6452 - accuracy: 0.6259 - val_loss: 0.7134 - val_accuracy: 0.5429\n",
      "Epoch 21/25\n",
      "10/10 [==============================] - 37s 4s/step - loss: 0.6665 - accuracy: 0.5971 - val_loss: 0.6869 - val_accuracy: 0.5714\n",
      "Epoch 22/25\n",
      "10/10 [==============================] - 37s 4s/step - loss: 0.6088 - accuracy: 0.6619 - val_loss: 0.6835 - val_accuracy: 0.6000\n",
      "Epoch 23/25\n",
      "10/10 [==============================] - 38s 4s/step - loss: 0.5965 - accuracy: 0.6691 - val_loss: 0.7237 - val_accuracy: 0.5429\n",
      "Epoch 24/25\n",
      "10/10 [==============================] - 38s 4s/step - loss: 0.6046 - accuracy: 0.6547 - val_loss: 0.7074 - val_accuracy: 0.6000\n",
      "Epoch 25/25\n",
      "10/10 [==============================] - 39s 4s/step - loss: 0.6057 - accuracy: 0.5971 - val_loss: 0.7308 - val_accuracy: 0.6000\n"
     ]
    },
    {
     "name": "stderr",
     "output_type": "stream",
     "text": [
      "WARNING:absl:Found untraced functions such as _jit_compiled_convolution_op, _jit_compiled_convolution_op, _jit_compiled_convolution_op, _jit_compiled_convolution_op, _jit_compiled_convolution_op while saving (showing 5 of 16). These functions will not be directly callable after loading.\n"
     ]
    },
    {
     "name": "stdout",
     "output_type": "stream",
     "text": [
      "INFO:tensorflow:Assets written to: asthma2_VGG19_2/assets\n"
     ]
    },
    {
     "name": "stderr",
     "output_type": "stream",
     "text": [
      "INFO:tensorflow:Assets written to: asthma2_VGG19_2/assets\n"
     ]
    },
    {
     "name": "stdout",
     "output_type": "stream",
     "text": [
      "Epoch 1/25\n",
      "10/10 [==============================] - 44s 4s/step - loss: 0.7101 - accuracy: 0.5540 - val_loss: 0.7048 - val_accuracy: 0.5429\n",
      "Epoch 2/25\n",
      "10/10 [==============================] - 54s 5s/step - loss: 0.7362 - accuracy: 0.5396 - val_loss: 0.7714 - val_accuracy: 0.5714\n",
      "Epoch 3/25\n",
      "10/10 [==============================] - 37s 4s/step - loss: 0.7505 - accuracy: 0.4676 - val_loss: 0.7035 - val_accuracy: 0.5714\n",
      "Epoch 4/25\n",
      "10/10 [==============================] - 38s 4s/step - loss: 0.7134 - accuracy: 0.5540 - val_loss: 0.7006 - val_accuracy: 0.5143\n",
      "Epoch 5/25\n",
      "10/10 [==============================] - 37s 4s/step - loss: 0.7297 - accuracy: 0.5540 - val_loss: 0.7092 - val_accuracy: 0.5429\n",
      "Epoch 6/25\n",
      "10/10 [==============================] - 47s 5s/step - loss: 0.6740 - accuracy: 0.6043 - val_loss: 0.7833 - val_accuracy: 0.5429\n",
      "Epoch 7/25\n",
      "10/10 [==============================] - 69s 7s/step - loss: 0.7302 - accuracy: 0.5468 - val_loss: 0.7301 - val_accuracy: 0.6000\n",
      "Epoch 8/25\n",
      "10/10 [==============================] - 47s 5s/step - loss: 0.6650 - accuracy: 0.5971 - val_loss: 0.7383 - val_accuracy: 0.6000\n",
      "Epoch 9/25\n",
      "10/10 [==============================] - 52s 5s/step - loss: 0.6583 - accuracy: 0.6187 - val_loss: 0.7272 - val_accuracy: 0.5714\n",
      "Epoch 10/25\n",
      "10/10 [==============================] - 49s 5s/step - loss: 0.6783 - accuracy: 0.5899 - val_loss: 0.7363 - val_accuracy: 0.5714\n",
      "Epoch 11/25\n",
      "10/10 [==============================] - 48s 5s/step - loss: 0.7562 - accuracy: 0.5324 - val_loss: 0.7309 - val_accuracy: 0.5429\n",
      "Epoch 12/25\n",
      "10/10 [==============================] - 69s 7s/step - loss: 0.6522 - accuracy: 0.5755 - val_loss: 0.7195 - val_accuracy: 0.5714\n",
      "Epoch 13/25\n",
      "10/10 [==============================] - 77s 8s/step - loss: 0.6373 - accuracy: 0.6331 - val_loss: 0.7938 - val_accuracy: 0.5143\n",
      "Epoch 14/25\n",
      "10/10 [==============================] - 59s 6s/step - loss: 0.6431 - accuracy: 0.6187 - val_loss: 0.7868 - val_accuracy: 0.6000\n",
      "Epoch 15/25\n",
      "10/10 [==============================] - 59s 6s/step - loss: 0.6540 - accuracy: 0.5899 - val_loss: 0.8313 - val_accuracy: 0.5143\n",
      "Epoch 16/25\n",
      "10/10 [==============================] - 46s 5s/step - loss: 0.6330 - accuracy: 0.6619 - val_loss: 0.7697 - val_accuracy: 0.5714\n",
      "Epoch 17/25\n",
      "10/10 [==============================] - 44s 4s/step - loss: 0.6632 - accuracy: 0.6115 - val_loss: 0.8008 - val_accuracy: 0.5429\n",
      "Epoch 18/25\n",
      "10/10 [==============================] - 52s 5s/step - loss: 0.6981 - accuracy: 0.5396 - val_loss: 0.7488 - val_accuracy: 0.5714\n",
      "Epoch 19/25\n",
      "10/10 [==============================] - 95s 10s/step - loss: 0.6498 - accuracy: 0.6331 - val_loss: 0.7408 - val_accuracy: 0.4857\n",
      "Epoch 20/25\n",
      "10/10 [==============================] - 99s 10s/step - loss: 0.6262 - accuracy: 0.6547 - val_loss: 0.7634 - val_accuracy: 0.4857\n",
      "Epoch 21/25\n",
      "10/10 [==============================] - 51s 5s/step - loss: 0.6490 - accuracy: 0.6331 - val_loss: 0.7959 - val_accuracy: 0.5143\n",
      "Epoch 22/25\n",
      "10/10 [==============================] - 45s 5s/step - loss: 0.6147 - accuracy: 0.6187 - val_loss: 0.7247 - val_accuracy: 0.5429\n",
      "Epoch 23/25\n",
      "10/10 [==============================] - 49s 5s/step - loss: 0.6181 - accuracy: 0.6691 - val_loss: 0.7711 - val_accuracy: 0.5429\n",
      "Epoch 24/25\n",
      "10/10 [==============================] - 49s 5s/step - loss: 0.6762 - accuracy: 0.5468 - val_loss: 0.7138 - val_accuracy: 0.5143\n",
      "Epoch 25/25\n",
      "10/10 [==============================] - 52s 5s/step - loss: 0.5759 - accuracy: 0.7050 - val_loss: 0.7159 - val_accuracy: 0.4857\n"
     ]
    },
    {
     "name": "stderr",
     "output_type": "stream",
     "text": [
      "WARNING:absl:Found untraced functions such as _jit_compiled_convolution_op, _jit_compiled_convolution_op, _jit_compiled_convolution_op, _jit_compiled_convolution_op, _jit_compiled_convolution_op while saving (showing 5 of 16). These functions will not be directly callable after loading.\n"
     ]
    },
    {
     "name": "stdout",
     "output_type": "stream",
     "text": [
      "INFO:tensorflow:Assets written to: asthma2_VGG19_3/assets\n"
     ]
    },
    {
     "name": "stderr",
     "output_type": "stream",
     "text": [
      "INFO:tensorflow:Assets written to: asthma2_VGG19_3/assets\n"
     ]
    },
    {
     "name": "stdout",
     "output_type": "stream",
     "text": [
      "Epoch 1/25\n",
      "10/10 [==============================] - 43s 4s/step - loss: 0.7148 - accuracy: 0.4748 - val_loss: 0.6875 - val_accuracy: 0.6857\n",
      "Epoch 2/25\n",
      "10/10 [==============================] - 47s 5s/step - loss: 0.6970 - accuracy: 0.5468 - val_loss: 0.6913 - val_accuracy: 0.5143\n",
      "Epoch 3/25\n",
      "10/10 [==============================] - 62s 6s/step - loss: 0.6851 - accuracy: 0.5180 - val_loss: 0.6816 - val_accuracy: 0.6000\n",
      "Epoch 4/25\n",
      "10/10 [==============================] - 54s 5s/step - loss: 0.7350 - accuracy: 0.5396 - val_loss: 0.6778 - val_accuracy: 0.6000\n",
      "Epoch 5/25\n",
      "10/10 [==============================] - 43s 4s/step - loss: 0.6793 - accuracy: 0.5683 - val_loss: 0.6734 - val_accuracy: 0.6286\n",
      "Epoch 6/25\n",
      "10/10 [==============================] - 42s 4s/step - loss: 0.6854 - accuracy: 0.6187 - val_loss: 0.6837 - val_accuracy: 0.6000\n",
      "Epoch 7/25\n",
      "10/10 [==============================] - 47s 5s/step - loss: 0.7064 - accuracy: 0.5252 - val_loss: 0.6707 - val_accuracy: 0.5714\n",
      "Epoch 8/25\n",
      "10/10 [==============================] - 42s 4s/step - loss: 0.7296 - accuracy: 0.5612 - val_loss: 0.6691 - val_accuracy: 0.5429\n",
      "Epoch 9/25\n",
      "10/10 [==============================] - 41s 4s/step - loss: 0.6858 - accuracy: 0.5252 - val_loss: 0.6688 - val_accuracy: 0.6286\n",
      "Epoch 10/25\n",
      "10/10 [==============================] - 41s 4s/step - loss: 0.6689 - accuracy: 0.5827 - val_loss: 0.6652 - val_accuracy: 0.5714\n",
      "Epoch 11/25\n",
      "10/10 [==============================] - 40s 4s/step - loss: 0.6866 - accuracy: 0.5324 - val_loss: 0.6616 - val_accuracy: 0.6286\n",
      "Epoch 12/25\n",
      "10/10 [==============================] - 48s 5s/step - loss: 0.6834 - accuracy: 0.5396 - val_loss: 0.6526 - val_accuracy: 0.6571\n",
      "Epoch 13/25\n",
      "10/10 [==============================] - 51s 5s/step - loss: 0.6709 - accuracy: 0.5755 - val_loss: 0.6429 - val_accuracy: 0.6857\n",
      "Epoch 14/25\n",
      "10/10 [==============================] - 54s 6s/step - loss: 0.6703 - accuracy: 0.5755 - val_loss: 0.6455 - val_accuracy: 0.6286\n",
      "Epoch 15/25\n",
      "10/10 [==============================] - 45s 5s/step - loss: 0.6520 - accuracy: 0.5540 - val_loss: 0.6379 - val_accuracy: 0.6571\n",
      "Epoch 16/25\n",
      "10/10 [==============================] - 51s 5s/step - loss: 0.6651 - accuracy: 0.5899 - val_loss: 0.6374 - val_accuracy: 0.6571\n",
      "Epoch 17/25\n",
      "10/10 [==============================] - 48s 5s/step - loss: 0.6373 - accuracy: 0.5899 - val_loss: 0.6350 - val_accuracy: 0.6571\n",
      "Epoch 18/25\n",
      "10/10 [==============================] - 46s 5s/step - loss: 0.6602 - accuracy: 0.5612 - val_loss: 0.6271 - val_accuracy: 0.6857\n",
      "Epoch 19/25\n",
      "10/10 [==============================] - 43s 4s/step - loss: 0.6338 - accuracy: 0.5755 - val_loss: 0.6387 - val_accuracy: 0.6857\n",
      "Epoch 20/25\n",
      "10/10 [==============================] - 43s 4s/step - loss: 0.6211 - accuracy: 0.6187 - val_loss: 0.6308 - val_accuracy: 0.6857\n",
      "Epoch 21/25\n",
      "10/10 [==============================] - 42s 4s/step - loss: 0.6575 - accuracy: 0.5396 - val_loss: 0.6099 - val_accuracy: 0.6857\n",
      "Epoch 22/25\n",
      "10/10 [==============================] - 42s 4s/step - loss: 0.6464 - accuracy: 0.5683 - val_loss: 0.6122 - val_accuracy: 0.7143\n",
      "Epoch 23/25\n",
      "10/10 [==============================] - 42s 4s/step - loss: 0.6558 - accuracy: 0.6115 - val_loss: 0.6442 - val_accuracy: 0.6000\n",
      "Epoch 24/25\n",
      "10/10 [==============================] - 44s 4s/step - loss: 0.6694 - accuracy: 0.6115 - val_loss: 0.6329 - val_accuracy: 0.6571\n",
      "Epoch 25/25\n",
      "10/10 [==============================] - 42s 4s/step - loss: 0.6048 - accuracy: 0.6619 - val_loss: 0.6393 - val_accuracy: 0.6000\n"
     ]
    },
    {
     "name": "stderr",
     "output_type": "stream",
     "text": [
      "WARNING:absl:Found untraced functions such as _jit_compiled_convolution_op, _jit_compiled_convolution_op, _jit_compiled_convolution_op, _jit_compiled_convolution_op, _jit_compiled_convolution_op while saving (showing 5 of 16). These functions will not be directly callable after loading.\n"
     ]
    },
    {
     "name": "stdout",
     "output_type": "stream",
     "text": [
      "INFO:tensorflow:Assets written to: asthma2_VGG19_4/assets\n"
     ]
    },
    {
     "name": "stderr",
     "output_type": "stream",
     "text": [
      "INFO:tensorflow:Assets written to: asthma2_VGG19_4/assets\n"
     ]
    },
    {
     "name": "stdout",
     "output_type": "stream",
     "text": [
      "Epoch 1/25\n",
      "10/10 [==============================] - 42s 4s/step - loss: 0.6971 - accuracy: 0.4929 - val_loss: 0.7345 - val_accuracy: 0.4412\n",
      "Epoch 2/25\n",
      "10/10 [==============================] - 42s 4s/step - loss: 0.7143 - accuracy: 0.5929 - val_loss: 0.7158 - val_accuracy: 0.4706\n",
      "Epoch 3/25\n",
      "10/10 [==============================] - 42s 4s/step - loss: 0.7159 - accuracy: 0.5429 - val_loss: 0.6874 - val_accuracy: 0.5588\n",
      "Epoch 4/25\n",
      "10/10 [==============================] - 41s 4s/step - loss: 0.6816 - accuracy: 0.6214 - val_loss: 0.7578 - val_accuracy: 0.4412\n",
      "Epoch 5/25\n",
      "10/10 [==============================] - 42s 4s/step - loss: 0.7087 - accuracy: 0.5714 - val_loss: 0.7505 - val_accuracy: 0.4706\n",
      "Epoch 6/25\n",
      "10/10 [==============================] - 43s 4s/step - loss: 0.7592 - accuracy: 0.5357 - val_loss: 0.6971 - val_accuracy: 0.4706\n",
      "Epoch 7/25\n",
      "10/10 [==============================] - 41s 4s/step - loss: 0.7232 - accuracy: 0.5500 - val_loss: 0.6883 - val_accuracy: 0.5294\n",
      "Epoch 8/25\n",
      "10/10 [==============================] - 40s 4s/step - loss: 0.7141 - accuracy: 0.6000 - val_loss: 0.7216 - val_accuracy: 0.4412\n",
      "Epoch 9/25\n",
      "10/10 [==============================] - 42s 4s/step - loss: 0.6991 - accuracy: 0.5571 - val_loss: 0.7190 - val_accuracy: 0.4118\n",
      "Epoch 10/25\n",
      "10/10 [==============================] - 43s 4s/step - loss: 0.6593 - accuracy: 0.5786 - val_loss: 0.6973 - val_accuracy: 0.4118\n",
      "Epoch 11/25\n",
      "10/10 [==============================] - 63s 6s/step - loss: 0.6810 - accuracy: 0.5643 - val_loss: 0.7215 - val_accuracy: 0.4118\n",
      "Epoch 12/25\n",
      "10/10 [==============================] - 62s 6s/step - loss: 0.6993 - accuracy: 0.5714 - val_loss: 0.7099 - val_accuracy: 0.4412\n",
      "Epoch 13/25\n",
      "10/10 [==============================] - 47s 5s/step - loss: 0.6547 - accuracy: 0.6071 - val_loss: 0.7134 - val_accuracy: 0.4706\n",
      "Epoch 14/25\n",
      "10/10 [==============================] - 40s 4s/step - loss: 0.6584 - accuracy: 0.6000 - val_loss: 0.7338 - val_accuracy: 0.4412\n",
      "Epoch 15/25\n",
      "10/10 [==============================] - 38s 4s/step - loss: 0.6817 - accuracy: 0.6214 - val_loss: 0.7302 - val_accuracy: 0.4412\n",
      "Epoch 16/25\n",
      "10/10 [==============================] - 38s 4s/step - loss: 0.6855 - accuracy: 0.5786 - val_loss: 0.7130 - val_accuracy: 0.5000\n",
      "Epoch 17/25\n",
      "10/10 [==============================] - 37s 4s/step - loss: 0.6616 - accuracy: 0.5643 - val_loss: 0.7418 - val_accuracy: 0.4412\n",
      "Epoch 18/25\n",
      "10/10 [==============================] - 37s 4s/step - loss: 0.6366 - accuracy: 0.5929 - val_loss: 0.7242 - val_accuracy: 0.5000\n",
      "Epoch 19/25\n",
      "10/10 [==============================] - 41s 4s/step - loss: 0.6315 - accuracy: 0.6214 - val_loss: 0.7381 - val_accuracy: 0.4706\n",
      "Epoch 20/25\n",
      "10/10 [==============================] - 38s 4s/step - loss: 0.6486 - accuracy: 0.5643 - val_loss: 0.7115 - val_accuracy: 0.4706\n",
      "Epoch 21/25\n",
      "10/10 [==============================] - 37s 4s/step - loss: 0.6646 - accuracy: 0.6143 - val_loss: 0.7486 - val_accuracy: 0.4412\n",
      "Epoch 22/25\n",
      "10/10 [==============================] - 37s 4s/step - loss: 0.6542 - accuracy: 0.6000 - val_loss: 0.7522 - val_accuracy: 0.5000\n",
      "Epoch 23/25\n",
      "10/10 [==============================] - 44s 5s/step - loss: 0.6691 - accuracy: 0.6000 - val_loss: 0.7668 - val_accuracy: 0.4412\n",
      "Epoch 24/25\n",
      "10/10 [==============================] - 37s 4s/step - loss: 0.6254 - accuracy: 0.6214 - val_loss: 0.7107 - val_accuracy: 0.5588\n",
      "Epoch 25/25\n",
      "10/10 [==============================] - 37s 4s/step - loss: 0.6566 - accuracy: 0.6714 - val_loss: 0.7245 - val_accuracy: 0.4412\n"
     ]
    },
    {
     "name": "stderr",
     "output_type": "stream",
     "text": [
      "WARNING:absl:Found untraced functions such as _jit_compiled_convolution_op, _jit_compiled_convolution_op, _jit_compiled_convolution_op, _jit_compiled_convolution_op, _jit_compiled_convolution_op while saving (showing 5 of 16). These functions will not be directly callable after loading.\n"
     ]
    },
    {
     "name": "stdout",
     "output_type": "stream",
     "text": [
      "INFO:tensorflow:Assets written to: asthma2_VGG19_5/assets\n"
     ]
    },
    {
     "name": "stderr",
     "output_type": "stream",
     "text": [
      "INFO:tensorflow:Assets written to: asthma2_VGG19_5/assets\n"
     ]
    }
   ],
   "source": [
    "k_fold_validation(X_data, Y_data, kfold, 2, input_shape)"
   ]
  },
  {
   "cell_type": "markdown",
   "id": "7b58da34",
   "metadata": {},
   "source": []
  }
 ],
 "metadata": {
  "kernelspec": {
   "display_name": "Python 3 (ipykernel)",
   "language": "python",
   "name": "python3"
  },
  "language_info": {
   "codemirror_mode": {
    "name": "ipython",
    "version": 3
   },
   "file_extension": ".py",
   "mimetype": "text/x-python",
   "name": "python",
   "nbconvert_exporter": "python",
   "pygments_lexer": "ipython3",
   "version": "3.8.8"
  }
 },
 "nbformat": 4,
 "nbformat_minor": 5
}
