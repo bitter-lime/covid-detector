{
 "cells": [
  {
   "cell_type": "code",
   "execution_count": 1,
   "id": "8fee0577",
   "metadata": {},
   "outputs": [],
   "source": [
    "from tensorflow import keras\n",
    "from tensorflow.keras.models import load_model\n",
    "import pickle\n",
    "\n",
    "from sklearn.metrics import roc_curve, roc_auc_score, confusion_matrix, auc\n",
    "from sklearn.metrics import accuracy_score, precision_score, recall_score, f1_score\n",
    "from sklearn.metrics import multilabel_confusion_matrix\n",
    "from sklearn.metrics import classification_report\n",
    "from sklearn.metrics import RocCurveDisplay\n",
    "from scipy import interp\n",
    "from sklearn.model_selection import StratifiedKFold\n",
    "\n",
    "import numpy as np\n",
    "from keras.utils import np_utils\n",
    "import matplotlib.pyplot as plt\n",
    "import seaborn as sns\n",
    "from itertools import cycle\n",
    "import pandas as pd\n",
    "import glob \n",
    "import os "
   ]
  },
  {
   "cell_type": "code",
   "execution_count": 37,
   "id": "5957eb4b",
   "metadata": {},
   "outputs": [],
   "source": [
    "models1 = glob.glob('/Users/home/Documents/Respiratory Illness AI/randomness_test/run2/*/') "
   ]
  },
  {
   "cell_type": "code",
   "execution_count": 31,
   "id": "cfb6b794",
   "metadata": {},
   "outputs": [],
   "source": [
    "fh = open(\"/Users/home/Documents/Respiratory Illness AI/randomness_test/recording/test2/asthma_others2_224_224_3\", 'rb')\n",
    "dataset = pickle.load(fh)"
   ]
  },
  {
   "cell_type": "code",
   "execution_count": 4,
   "id": "5a3d0390",
   "metadata": {},
   "outputs": [],
   "source": [
    "def train_val(dataset):\n",
    "    input_shape = (224, 224, 3)\n",
    "    train = dataset[:139]\n",
    "    val = dataset[139:174]\n",
    "    #278 - 5, 261 - 4\n",
    "    #130 - 4, \n",
    "\n",
    "    X_train, y_train = zip(*train)\n",
    "    X_val, y_val = zip(*val)\n",
    "\n",
    "    X_train = np.array([x.reshape(input_shape) for x in X_train])\n",
    "    X_val = np.array([x.reshape(input_shape) for x in X_val])\n",
    "\n",
    "    y_train = np.array(np_utils.to_categorical(y_train, 2))\n",
    "    y_val = np.array(np_utils.to_categorical(y_val, 2))\n",
    "    \n",
    "    return X_val, y_val "
   ]
  },
  {
   "cell_type": "code",
   "execution_count": 5,
   "id": "4cd358ed",
   "metadata": {},
   "outputs": [],
   "source": [
    "def get_auc_values(models, X_val, y_val):\n",
    "    base_fpr = np.linspace(0, 1, 100)\n",
    "    \n",
    "    tprs = []\n",
    "    aucs = []\n",
    "\n",
    "    for i in models:\n",
    "        model = load_model(i, compile = True)\n",
    "        y_score = model.predict(X_val)\n",
    "        fpr, tpr, thresholds = roc_curve(y_val.argmax(axis=1), y_score[:,1])\n",
    "        tprs.append(np.interp(base_fpr, fpr, tpr))\n",
    "        tprs[-1][0] = 0.0\n",
    "        roc_auc = auc(fpr, tpr)\n",
    "        aucs.append(roc_auc)\n",
    "        \n",
    "    return tprs, aucs"
   ]
  },
  {
   "cell_type": "code",
   "execution_count": 6,
   "id": "f664f076",
   "metadata": {},
   "outputs": [],
   "source": [
    "def get_average_auc(aucs):\n",
    "    Sum = 0 \n",
    "    for i in aucs:\n",
    "        Sum += i \n",
    "    \n",
    "    return Sum/len(aucs)"
   ]
  },
  {
   "cell_type": "code",
   "execution_count": 12,
   "id": "aa8c3217",
   "metadata": {},
   "outputs": [],
   "source": [
    "def main(models, dataset):\n",
    "    X_val, y_val = train_val(dataset)\n",
    "    tprs, aucs = get_auc_values(models, X_val, y_val)\n",
    "    print(aucs)\n",
    "    score = get_average_auc(aucs)\n",
    "    return score"
   ]
  },
  {
   "cell_type": "code",
   "execution_count": 38,
   "id": "d4f957ce",
   "metadata": {},
   "outputs": [
    {
     "name": "stdout",
     "output_type": "stream",
     "text": [
      "2/2 [==============================] - 6s 545ms/step\n",
      "2/2 [==============================] - 7s 669ms/step\n",
      "2/2 [==============================] - 7s 675ms/step\n",
      "2/2 [==============================] - 7s 708ms/step\n",
      "2/2 [==============================] - 7s 703ms/step\n",
      "[0.8636363636363636, 0.8846153846153846, 0.7062937062937064, 0.8776223776223776, 0.8601398601398601]\n"
     ]
    }
   ],
   "source": [
    "score = main(models1, dataset)"
   ]
  },
  {
   "cell_type": "code",
   "execution_count": 39,
   "id": "0315efed",
   "metadata": {},
   "outputs": [
    {
     "name": "stdout",
     "output_type": "stream",
     "text": [
      "0.8384615384615385\n"
     ]
    }
   ],
   "source": [
    "print(score)"
   ]
  },
  {
   "cell_type": "code",
   "execution_count": 11,
   "id": "ec4223e3",
   "metadata": {},
   "outputs": [
    {
     "name": "stdout",
     "output_type": "stream",
     "text": [
      "['/Users/home/Documents/Respiratory Illness AI/randomness_test/run0/asthma0_VGG19_1/', '/Users/home/Documents/Respiratory Illness AI/randomness_test/run0/asthma0_VGG19_2/', '/Users/home/Documents/Respiratory Illness AI/randomness_test/run0/asthma0_VGG19_5/', '/Users/home/Documents/Respiratory Illness AI/randomness_test/run0/asthma0_VGG19_4/', '/Users/home/Documents/Respiratory Illness AI/randomness_test/run0/asthma0_VGG19_3/']\n"
     ]
    }
   ],
   "source": [
    "print(models1)"
   ]
  },
  {
   "cell_type": "code",
   "execution_count": null,
   "id": "33abd710",
   "metadata": {},
   "outputs": [],
   "source": [
    "0.8411764705882353, 0.8156862745098039, 0.8741258741258742"
   ]
  }
 ],
 "metadata": {
  "kernelspec": {
   "display_name": "Python 3 (ipykernel)",
   "language": "python",
   "name": "python3"
  },
  "language_info": {
   "codemirror_mode": {
    "name": "ipython",
    "version": 3
   },
   "file_extension": ".py",
   "mimetype": "text/x-python",
   "name": "python",
   "nbconvert_exporter": "python",
   "pygments_lexer": "ipython3",
   "version": "3.8.8"
  }
 },
 "nbformat": 4,
 "nbformat_minor": 5
}
