{
 "cells": [
  {
   "cell_type": "code",
   "execution_count": 8,
   "id": "73599dea",
   "metadata": {},
   "outputs": [],
   "source": [
    "import librosa\n",
    "import tensorflow as tf\n",
    "import librosa.display\n",
    "import matplotlib.pyplot as plt\n",
    "import numpy as np\n",
    "import numpy.ma as ma \n",
    "import pandas as pd\n",
    "import glob\n",
    "import os\n",
    "\n",
    "import shutil\n",
    "import random\n",
    "import pickle\n",
    "\n",
    "import warnings\n",
    "warnings.filterwarnings ('ignore')"
   ]
  },
  {
   "cell_type": "code",
   "execution_count": 14,
   "id": "ccd8dab1",
   "metadata": {},
   "outputs": [],
   "source": [
    "asthma_fn = \"/Users/home/Documents/Respiratory Illness AI/recordings/official_training/raw_files/asthma-1/*.wav\"\n",
    "copd_fn = \"/Users/home/Documents/Respiratory Illness AI/recordings/official_training/raw_files/COPD-2/*.wav\"\n",
    "covid_fn = \"/Users/home/Documents/Respiratory Illness AI/recordings/official_training/raw_files/COVID-3/*.wav\"\n",
    "healthy_fn = \"/Users/home/Documents/Respiratory Illness AI/recordings/official_training/raw_files/healthy-0/*.wav\""
   ]
  },
  {
   "cell_type": "code",
   "execution_count": 15,
   "id": "1d269d6b",
   "metadata": {},
   "outputs": [],
   "source": [
    "asthma_coughs = glob.glob(asthma_fn)\n",
    "copd_coughs = glob.glob(copd_fn)\n",
    "covid_coughs = glob.glob(covid_fn)\n",
    "healthy_coughs = glob.glob(healthy_fn)\n",
    "\n",
    "all_coughs = [asthma_coughs, copd_coughs, covid_coughs, healthy_coughs]"
   ]
  },
  {
   "cell_type": "code",
   "execution_count": 10,
   "id": "3acfe890",
   "metadata": {},
   "outputs": [],
   "source": [
    "parent_directory = \"/Users/home/Documents/Respiratory Illness AI/recordings/randomness_test/\""
   ]
  },
  {
   "cell_type": "code",
   "execution_count": 29,
   "id": "c7bc36a6",
   "metadata": {},
   "outputs": [],
   "source": [
    "def move_files(files, path):\n",
    "    for file_path in files:\n",
    "        file_name = os.path.basename(file_path)\n",
    "        shutil.copyfile(file_path, f'{path}/{file_name}')\n",
    "\n",
    "def get_samples(all_coughs):\n",
    "    random_asthma = random.sample(all_coughs[0], 29)\n",
    "    random_copd = random.sample(all_coughs[1], 29)\n",
    "    random_covid = random.sample(all_coughs[2], 29)\n",
    "    random_healthy = random.sample(all_coughs[3], 29)\n",
    "    \n",
    "    return [random_asthma, random_copd, random_covid, random_healthy]\n",
    "        \n",
    "def create_dataset(all_coughs, directory, name, disease_choice):\n",
    "    samples = get_samples(all_coughs)\n",
    "    \n",
    "    path = os.path.join(directory, name)\n",
    "    os.mkdir(path)\n",
    "    \n",
    "    move_files(all_coughs[disease_choice], path)\n",
    "    \n",
    "    for i in range(4):\n",
    "        if i != disease_choice:\n",
    "            move_files(samples[i], path)\n",
    "    \n",
    "    print('complete')\n",
    "\n",
    "def main(all_coughs, directory, num):\n",
    "    names = ['asthma', 'copd', 'covid', 'healthy']\n",
    "    for i in range(len(names)):\n",
    "        create_dataset(all_coughs, directory, f'{names[i]}{num}', i)"
   ]
  },
  {
   "cell_type": "code",
   "execution_count": 33,
   "id": "c163ab7e",
   "metadata": {},
   "outputs": [
    {
     "name": "stdout",
     "output_type": "stream",
     "text": [
      "complete\n",
      "complete\n",
      "complete\n",
      "complete\n"
     ]
    }
   ],
   "source": [
    "main(all_coughs, parent_directory, 2)"
   ]
  },
  {
   "cell_type": "code",
   "execution_count": null,
   "id": "5bd76afd",
   "metadata": {},
   "outputs": [],
   "source": []
  }
 ],
 "metadata": {
  "kernelspec": {
   "display_name": "Python 3 (ipykernel)",
   "language": "python",
   "name": "python3"
  },
  "language_info": {
   "codemirror_mode": {
    "name": "ipython",
    "version": 3
   },
   "file_extension": ".py",
   "mimetype": "text/x-python",
   "name": "python",
   "nbconvert_exporter": "python",
   "pygments_lexer": "ipython3",
   "version": "3.8.8"
  }
 },
 "nbformat": 4,
 "nbformat_minor": 5
}
