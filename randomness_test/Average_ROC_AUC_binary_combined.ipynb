{
 "cells": [
  {
   "cell_type": "code",
   "execution_count": 2,
   "id": "29386153",
   "metadata": {},
   "outputs": [],
   "source": [
    "from tensorflow import keras\n",
    "from tensorflow.keras.models import load_model\n",
    "import pickle\n",
    "\n",
    "from sklearn.metrics import roc_curve, roc_auc_score, confusion_matrix, auc\n",
    "from sklearn.metrics import accuracy_score, precision_score, recall_score, f1_score\n",
    "from sklearn.metrics import multilabel_confusion_matrix\n",
    "from sklearn.metrics import classification_report\n",
    "from sklearn.metrics import RocCurveDisplay\n",
    "from scipy import interp\n",
    "from sklearn.model_selection import StratifiedKFold\n",
    "\n",
    "import numpy as np\n",
    "from keras.utils import np_utils\n",
    "import matplotlib.pyplot as plt\n",
    "import seaborn as sns\n",
    "from itertools import cycle\n",
    "import pandas as pd\n",
    "import glob \n",
    "import os "
   ]
  },
  {
   "cell_type": "code",
   "execution_count": 5,
   "id": "2b96ba07",
   "metadata": {},
   "outputs": [],
   "source": [
    "models1 = glob.glob('/Users/home/Documents/asthma_vgg16/*/')\n",
    "models2 = glob.glob('/Users/home/Documents/copd_vgg16/*/')\n",
    "models3 = glob.glob('/Users/home/Documents/covid_vgg16/*/')\n",
    "models4 = glob.glob('/Users/home/Documents/healthy_vgg16/*/')"
   ]
  },
  {
   "cell_type": "code",
   "execution_count": 6,
   "id": "6c68f2ad",
   "metadata": {},
   "outputs": [],
   "source": [
    "fh1 = open(\"/Users/home/Documents/Respiratory Illness AI/datasets/official_datasets/others/asthma_others_224_224_3\", 'rb')\n",
    "dataset1 = pickle.load(fh1)\n",
    "fh2 = open(\"/Users/home/Documents/Respiratory Illness AI/datasets/official_datasets/others/copd_others_224_224_3\", 'rb')\n",
    "dataset2 = pickle.load(fh2)\n",
    "fh3 = open(\"/Users/home/Documents/Respiratory Illness AI/datasets/official_datasets/others/covid_others_224_224_3\", 'rb')\n",
    "dataset3 = pickle.load(fh3)\n",
    "fh4 = open(\"/Users/home/Documents/Respiratory Illness AI/datasets/official_datasets/others/healthy_others_224_224_3\", 'rb')\n",
    "dataset4 = pickle.load(fh4)"
   ]
  },
  {
   "cell_type": "code",
   "execution_count": 7,
   "id": "39870253",
   "metadata": {},
   "outputs": [],
   "source": [
    "def train_val(dataset):\n",
    "    input_shape = (224, 224, 3)\n",
    "    train = dataset[:139]\n",
    "    val = dataset[139:174]\n",
    "    #278 - 5, 261 - 4\n",
    "    #130 - 4, \n",
    "\n",
    "    X_train, y_train = zip(*train)\n",
    "    X_val, y_val = zip(*val)\n",
    "\n",
    "    X_train = np.array([x.reshape(input_shape) for x in X_train])\n",
    "    X_val = np.array([x.reshape(input_shape) for x in X_val])\n",
    "\n",
    "    y_train = np.array(np_utils.to_categorical(y_train, 2))\n",
    "    y_val = np.array(np_utils.to_categorical(y_val, 2))\n",
    "    \n",
    "    return X_val, y_val "
   ]
  },
  {
   "cell_type": "code",
   "execution_count": 7,
   "id": "eb0b4537",
   "metadata": {},
   "outputs": [],
   "source": [
    "def get_auc_values(models, X_val, y_val):\n",
    "    base_fpr = np.linspace(0, 1, 100)\n",
    "    \n",
    "    tprs = []\n",
    "    aucs = []\n",
    "\n",
    "    for i in models:\n",
    "        model = load_model(i, compile = True)\n",
    "        y_score = model.predict(X_val)\n",
    "        fpr, tpr, thresholds = roc_curve(y_val.argmax(axis=1), y_score[:,1])\n",
    "        tprs.append(np.interp(base_fpr, fpr, tpr))\n",
    "        tprs[-1][0] = 0.0\n",
    "        roc_auc = auc(fpr, tpr)\n",
    "        aucs.append(roc_auc)\n",
    "        \n",
    "    return tprs, aucs"
   ]
  },
  {
   "cell_type": "code",
   "execution_count": 1,
   "id": "cb4dbf46",
   "metadata": {},
   "outputs": [],
   "source": [
    "def graph_average(tprs, base_fpr, aucs):\n",
    "\n",
    "    colors = cycle([\"aqua\", \"darkorange\", \"darkgreen\", \"yellow\"])\n",
    "    diseases = [\"healthy\", \"asthma\", \"copd\", \"covid\"]\n",
    "    lw = 2\n",
    "    \n",
    "    plt.figure(figsize=(5, 5))\n",
    "    plt.axes().set_aspect('equal', 'datalim')\n",
    "    \n",
    "    for i, colour in zip(range(4), colors):\n",
    "        mean_tpr = np.mean(tprs[i], axis=0)\n",
    "        mean_tpr[-1] = 1.0\n",
    "        mean_auc = sum(aucs[i])/5\n",
    "        print(mean_auc)\n",
    "        plt.plot(base_fpr[i], mean_tpr, color=colour,\n",
    "         label=f'ROC class {diseases[i]} (AUC = {round(mean_auc, 2)})',lw=2, alpha=1)\n",
    "\n",
    "    plt.plot([0,1],[0,1],linestyle = '--',lw = 2,color = 'black')\n",
    "    plt.xlim([-0.01, 1.01])\n",
    "    plt.ylim([-0.01, 1.01])\n",
    "    plt.ylabel('True Positive Rate')\n",
    "    plt.xlabel('False Positive Rate')\n",
    "    plt.legend()\n",
    "    plt.show()"
   ]
  },
  {
   "cell_type": "code",
   "execution_count": 39,
   "id": "3575e4b8",
   "metadata": {},
   "outputs": [
    {
     "name": "stdout",
     "output_type": "stream",
     "text": [
      "0.7342105263157894\n",
      "0.7\n",
      "0.8732026143790851\n",
      "0.7085526315789473\n"
     ]
    },
    {
     "data": {
      "image/png": "[encoded data removed]",
      "text/plain": [
       "<Figure size 360x360 with 1 Axes>"
      ]
     },
     "metadata": {
      "needs_background": "light"
     },
     "output_type": "display_data"
    }
   ],
   "source": [
    "all_models = [models4, models1, models2, models3]\n",
    "all_datasets = [dataset4, dataset1, dataset2, dataset3]\n",
    "\n",
    "base_fpr = np.linspace(0, 1, 100)\n",
    "\n",
    "all_tprs = []\n",
    "all_base_fprs = []\n",
    "all_aucs = []\n",
    "\n",
    "for i in range(len(all_models)):\n",
    "    X_val, y_val = train_val(all_datasets[i])\n",
    "    tprs, aucs = get_auc_values(all_models[i], X_val, y_val)\n",
    "    all_tprs.append(tprs)\n",
    "    all_base_fprs.append(base_fpr)\n",
    "    all_aucs.append(aucs)\n",
    "\n",
    "graph_average(all_tprs, all_base_fprs, all_aucs)"
   ]
  },
  {
   "cell_type": "code",
   "execution_count": null,
   "id": "c34f3eab",
   "metadata": {},
   "outputs": [],
   "source": []
  },
  {
   "cell_type": "code",
   "execution_count": null,
   "id": "ec096d51",
   "metadata": {},
   "outputs": [],
   "source": []
  }
 ],
 "metadata": {
  "kernelspec": {
   "display_name": "Python 3 (ipykernel)",
   "language": "python",
   "name": "python3"
  },
  "language_info": {
   "codemirror_mode": {
    "name": "ipython",
    "version": 3
   },
   "file_extension": ".py",
   "mimetype": "text/x-python",
   "name": "python",
   "nbconvert_exporter": "python",
   "pygments_lexer": "ipython3",
   "version": "3.8.8"
  }
 },
 "nbformat": 4,
 "nbformat_minor": 5
}
