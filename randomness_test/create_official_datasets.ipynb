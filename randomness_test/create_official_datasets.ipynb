{
 "cells": [
  {
   "cell_type": "code",
   "execution_count": 5,
   "id": "43b04838",
   "metadata": {},
   "outputs": [],
   "source": [
    "import librosa\n",
    "import tensorflow as tf\n",
    "import librosa.display\n",
    "import matplotlib.pyplot as plt\n",
    "import numpy as np\n",
    "import numpy.ma as ma \n",
    "import pandas as pd\n",
    "import pickle\n",
    "import os\n",
    "import glob\n",
    "\n",
    "import warnings\n",
    "warnings.filterwarnings ('ignore')"
   ]
  },
  {
   "cell_type": "code",
   "execution_count": 75,
   "id": "ab437335",
   "metadata": {},
   "outputs": [],
   "source": [
    "file_paths = glob.glob(\"/Users/home/Documents/Respiratory Illness AI/randomness_test/recording/test2/healthy2/*.wav\")\n"
   ]
  },
  {
   "cell_type": "code",
   "execution_count": 24,
   "id": "bd0d5f99",
   "metadata": {},
   "outputs": [],
   "source": [
    "def determine_disease_id(file_path, disease):\n",
    "    file_name = os.path.basename(file_path)\n",
    "    num = 0\n",
    "    \n",
    "    if disease in file_name:\n",
    "        num = 1\n",
    "    \n",
    "    return num \n",
    "\n",
    "def turn_to_spectrograms(disease_name, file_paths):\n",
    "    dataset = []\n",
    "    \n",
    "    for file_path in file_paths:\n",
    "        y, sr = librosa.load(file_path, sr = 347530)\n",
    "    \n",
    "        audio = librosa.feature.melspectrogram(y=y, sr=sr, n_mels=224)\n",
    "        audio2 = np.stack((audio,)*3, axis=-1)\n",
    "    \n",
    "        if audio2.shape == (224, 224, 3):\n",
    "            ID = determine_disease_id(file_path, disease_name)\n",
    "            dataset.append( (audio2, ID) )\n",
    "    print (\"complete\")\n",
    "    return dataset"
   ]
  },
  {
   "cell_type": "code",
   "execution_count": 76,
   "id": "e9e049d5",
   "metadata": {},
   "outputs": [
    {
     "name": "stdout",
     "output_type": "stream",
     "text": [
      "complete\n"
     ]
    }
   ],
   "source": [
    "dataset = turn_to_spectrograms(\"healthy\", file_paths)"
   ]
  },
  {
   "cell_type": "code",
   "execution_count": 77,
   "id": "4fedcdcf",
   "metadata": {},
   "outputs": [],
   "source": [
    "melspec_dataset = open(\"healthy_others2_224_224_3\", 'wb')\n",
    "pickle.dump(dataset, melspec_dataset)\n",
    "melspec_dataset.close()"
   ]
  },
  {
   "cell_type": "code",
   "execution_count": null,
   "id": "00eb0c57",
   "metadata": {},
   "outputs": [],
   "source": []
  }
 ],
 "metadata": {
  "kernelspec": {
   "display_name": "Python 3 (ipykernel)",
   "language": "python",
   "name": "python3"
  },
  "language_info": {
   "codemirror_mode": {
    "name": "ipython",
    "version": 3
   },
   "file_extension": ".py",
   "mimetype": "text/x-python",
   "name": "python",
   "nbconvert_exporter": "python",
   "pygments_lexer": "ipython3",
   "version": "3.8.8"
  }
 },
 "nbformat": 4,
 "nbformat_minor": 5
}
