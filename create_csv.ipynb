{
 "cells": [
  {
   "cell_type": "code",
   "execution_count": 24,
   "metadata": {},
   "outputs": [],
   "source": [
    "import os\n",
    "import csv"
   ]
  },
  {
   "cell_type": "code",
   "execution_count": 25,
   "metadata": {},
   "outputs": [],
   "source": [
    "def create_csvFile(csvPath, columns, dir_path):\n",
    "    with open(csvPath, 'a') as csvfile:\n",
    "        writer = csv.writer(csvfile)\n",
    "#         writer.writerow(columns)\n",
    "        for root, dirs, files in os.walk(dir_path):\n",
    "            for file in files:\n",
    "                basename = os.path.splitext(file)[0]\n",
    "                writer.writerow([basename, 0, 'others'])\n",
    "\n",
    "        csvfile.close()\n",
    "\n",
    "        print('completed')"
   ]
  },
  {
   "cell_type": "code",
   "execution_count": 32,
   "metadata": {},
   "outputs": [],
   "source": [
    "path_asthma = '/Users/home/Documents/Respiratory Illness AI/recordings/official_training/raw_files/asthma-1'\n",
    "path_copd = '/Users/home/Documents/Respiratory Illness AI/recordings/official_training/raw_files/COPD-2'\n",
    "path_healthy = '/Users/home/Documents/Respiratory Illness AI/recordings/official_training/raw_files/healthy-0'\n",
    "path_covid = '/Users/home/Documents/Respiratory Illness AI/recordings/official_training/raw_files/COVID-3'\n",
    "\n",
    "path_others = \"/Users/home/Documents/Respiratory Illness AI/recordings/official_training/healthy_others\"\n",
    "\n",
    "csvPath = '/Users/home/Documents/Respiratory Illness AI/healthy_others_metadata.csv'\n",
    "columns = ['fileName', 'id', 'disease']"
   ]
  },
  {
   "cell_type": "code",
   "execution_count": 33,
   "metadata": {},
   "outputs": [
    {
     "name": "stdout",
     "output_type": "stream",
     "text": [
      "completed\n"
     ]
    }
   ],
   "source": [
    "create_csvFile(csvPath, columns, path_others)"
   ]
  },
  {
   "cell_type": "code",
   "execution_count": null,
   "metadata": {},
   "outputs": [],
   "source": [
    "12, 87"
   ]
  }
 ],
 "metadata": {
  "kernelspec": {
   "display_name": "Python 3 (ipykernel)",
   "language": "python",
   "name": "python3"
  },
  "language_info": {
   "codemirror_mode": {
    "name": "ipython",
    "version": 3
   },
   "file_extension": ".py",
   "mimetype": "text/x-python",
   "name": "python",
   "nbconvert_exporter": "python",
   "pygments_lexer": "ipython3",
   "version": "3.8.8"
  }
 },
 "nbformat": 4,
 "nbformat_minor": 4
}
